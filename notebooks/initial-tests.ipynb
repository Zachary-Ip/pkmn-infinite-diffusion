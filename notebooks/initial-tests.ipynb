{
 "cells": [
  {
   "cell_type": "markdown",
   "metadata": {},
   "source": [
    "## Make sure that Data can be loaded and transformed"
   ]
  },
  {
   "cell_type": "code",
   "execution_count": 3,
   "metadata": {},
   "outputs": [],
   "source": [
    "from omegaconf import OmegaConf\n",
    "import os\n",
    "from PIL import Image, UnidentifiedImageError\n",
    "import torchvision.transforms as transforms\n",
    "from torch.utils.data import Dataset, DataLoader\n",
    "import matplotlib.pyplot as plt"
   ]
  },
  {
   "cell_type": "code",
   "execution_count": 4,
   "metadata": {},
   "outputs": [],
   "source": [
    "# Define Transformations (Resize + Normalize)\n",
    "config = OmegaConf.load('configs/train.yaml')\n",
    "transform = transforms.Compose([\n",
    "    transforms.Resize((config.model.image_size, config.model.image_size)),  # Resize images to 64x64\n",
    "    transforms.ToTensor(),  # Convert to tensor\n",
    "    transforms.Normalize((0.5,), (0.5,)),  # Normalize to [-1,1]\n",
    "])\n"
   ]
  },
  {
   "cell_type": "code",
   "execution_count": 5,
   "metadata": {},
   "outputs": [],
   "source": [
    "# Dataset with exception\n",
    "\n",
    "# Custom Dataset (Simple Version)\n",
    "# class PokemonDataset(Dataset):\n",
    "#     def __init__(self, image_folder, transform=None):\n",
    "#         self.image_folder = image_folder\n",
    "#         self.image_files = [f for f in os.listdir(image_folder) if f.endswith(\".png\")]\n",
    "#         self.transform = transform\n",
    "\n",
    "#     def __len__(self):\n",
    "#         return len(self.image_files)\n",
    "\n",
    "#     def __getitem__(self, idx):\n",
    "#         img_path = os.path.join(self.image_folder, self.image_files[idx])\n",
    "#         image = Image.open(img_path).convert(\"RGB\")\n",
    "#         if self.transform:\n",
    "#             image = self.transform(image)\n",
    "#         return image\n",
    "\n",
    "class PokemonDataset(Dataset):\n",
    "    def __init__(self, image_folder, transform=None):\n",
    "        self.image_folder = image_folder\n",
    "        self.image_files = self.get_valid_images(image_folder)\n",
    "        self.transform = transform\n",
    "\n",
    "    def get_valid_images(self, folder):\n",
    "        valid_images = []\n",
    "        for f in os.listdir(folder):\n",
    "            if f.endswith(\".png\"):\n",
    "                img_path = os.path.join(folder, f)\n",
    "                try:\n",
    "                    with Image.open(img_path) as img:\n",
    "                        img.verify()  # Verify if the image is corrupted\n",
    "                    valid_images.append(f)\n",
    "                except (IOError, UnidentifiedImageError):\n",
    "                    print(f\"Skipping corrupted file: {f}\")\n",
    "        return valid_images\n",
    "\n",
    "    def __len__(self):\n",
    "        return len(self.image_files)\n",
    "\n",
    "    def __getitem__(self, idx):\n",
    "        img_path = os.path.join(self.image_folder, self.image_files[idx])\n",
    "        image = Image.open(img_path).convert(\"RGB\")\n",
    "        if self.transform:\n",
    "            image = self.transform(image)\n",
    "        return image"
   ]
  },
  {
   "cell_type": "code",
   "execution_count": 6,
   "metadata": {},
   "outputs": [
    {
     "name": "stdout",
     "output_type": "stream",
     "text": [
      "Skipping corrupted file: 92.248b.png\n",
      "Skipping corrupted file: 92.247a.png\n",
      "Skipping corrupted file: 374.235.png\n",
      "Skipping corrupted file: 57.150.png\n",
      "Skipping corrupted file: 25.151a.png\n",
      "Skipping corrupted file: 429.74.png\n",
      "Skipping corrupted file: 144.367.png\n",
      "Skipping corrupted file: 281.144a.png\n",
      "Skipping corrupted file: 334.38.png\n"
     ]
    }
   ],
   "source": [
    "\n",
    "# Load Dataset\n",
    "dataset = PokemonDataset(\"data/raw/\", transform=transform)\n",
    "# dataloader = DataLoader(dataset, batch_size=32, num_workers=8, pin_memory=True, shuffle=True)\n",
    "\n",
    "dataloader = DataLoader(dataset, batch_size=128, num_workers=os.cpu_count() // 2, pin_memory=True, shuffle=True)\n",
    "\n"
   ]
  },
  {
   "cell_type": "code",
   "execution_count": 7,
   "metadata": {},
   "outputs": [
    {
     "name": "stderr",
     "output_type": "stream",
     "text": [
      "Clipping input data to the valid range for imshow with RGB data ([0..1] for floats or [0..255] for integers). Got range [-1.0..1.0].\n"
     ]
    },
    {
     "data": {
      "image/png": "[encoded data removed]",
      "text/plain": [
       "<Figure size 640x480 with 1 Axes>"
      ]
     },
     "metadata": {},
     "output_type": "display_data"
    }
   ],
   "source": [
    "\n",
    "# Test: Load & Display a Sample Image\n",
    "sample_image = dataset[-1].permute(1, 2, 0).numpy()  # Convert from tensor (C, H, W) to (H, W, C)\n",
    "plt.imshow(sample_image)\n",
    "plt.axis(\"off\")\n",
    "plt.title(\"Sample Pokémon Sprite\")\n",
    "plt.show()"
   ]
  },
  {
   "cell_type": "markdown",
   "metadata": {},
   "source": [
    "## Basic version of a forward pass"
   ]
  },
  {
   "cell_type": "code",
   "execution_count": 8,
   "metadata": {},
   "outputs": [],
   "source": [
    "import torch\n",
    "import numpy as np"
   ]
  },
  {
   "cell_type": "code",
   "execution_count": 9,
   "metadata": {},
   "outputs": [],
   "source": [
    "class NoiseScheduler:\n",
    "    '''\n",
    "    We define βₜ (the noise variance) and αₜ (related to βₜ):\n",
    "\n",
    "    βₜ (beta_t) controls how much noise is added at each step.\n",
    "    αₜ (alpha_t) and ᾱₜ (cumulative alpha) determine the transition from x₀ to xₜ.\n",
    "    '''\n",
    "    def __init__(self, num_timesteps=1000, beta_start=1e-4, beta_end=0.02, device=\"cpu\"):\n",
    "        self.num_timesteps = num_timesteps\n",
    "        self.device = device  # Store device info\n",
    "\n",
    "        # Initialize tensors\n",
    "        self.beta_t = torch.linspace(beta_start, beta_end, num_timesteps, device=device)\n",
    "        self.alpha_t = 1.0 - self.beta_t\n",
    "        self.alpha_bar_t = torch.cumprod(self.alpha_t, dim=0)\n",
    "\n",
    "    def get_variance(self, t):\n",
    "        \"\"\"Returns beta_t and alpha_bar_t at timestep t (ensuring they're on the correct device).\"\"\"\n",
    "        return self.beta_t[t], self.alpha_bar_t[t]\n",
    "\n",
    "# Initialize Scheduler\n",
    "scheduler = NoiseScheduler(num_timesteps=1000)"
   ]
  },
  {
   "cell_type": "code",
   "execution_count": 10,
   "metadata": {},
   "outputs": [],
   "source": [
    "def forward_diffusion(x_0, t, scheduler):\n",
    "    \"\"\"Adds noise to image x_0 at timestep t\"\"\"\n",
    "    beta_t, alpha_bar_t = scheduler.get_variance(t)\n",
    "    # Ensure `alpha_bar_t` has the right shape for broadcasting\n",
    "    alpha_bar_t = alpha_bar_t.view(-1, 1, 1, 1)  # Reshape to [batch_size, 1, 1, 1]\n",
    "\n",
    "    beta_t, alpha_bar_t = beta_t.to(x_0.device), alpha_bar_t.to(x_0.device)\n",
    "\n",
    "    noise = torch.randn_like(x_0, device=x_0.device)  # Sample Gaussian noise\n",
    "    \n",
    "    # Apply diffusion\n",
    "    noisy_x = torch.sqrt(alpha_bar_t) * x_0 + torch.sqrt(1 - alpha_bar_t) * noise\n",
    "    return noisy_x, noise  # Return both the noisy image and the actual noise"
   ]
  },
  {
   "cell_type": "code",
   "execution_count": 11,
   "metadata": {},
   "outputs": [
    {
     "data": {
      "image/png": "[encoded data removed]",
      "text/plain": [
       "<Figure size 1500x300 with 5 Axes>"
      ]
     },
     "metadata": {},
     "output_type": "display_data"
    }
   ],
   "source": [
    "# Select a sample image from the dataset\n",
    "sample_image = dataset[0].unsqueeze(0)  # Add batch dimension\n",
    "\n",
    "# Pick timesteps to visualize\n",
    "timesteps = [0, 50, 200, 500, 999]\n",
    "\n",
    "plt.figure(figsize=(15, 3))\n",
    "for i, t in enumerate(timesteps):\n",
    "    noisy_image, _ = forward_diffusion(sample_image, t, scheduler)\n",
    "    noisy_image = noisy_image.squeeze(0).permute(1, 2, 0).numpy()  # Convert to displayable format\n",
    "    noisy_image = np.clip(noisy_image, 0, 1)  # Ensure valid pixel values\n",
    "\n",
    "    plt.subplot(1, len(timesteps), i + 1)\n",
    "    plt.imshow(noisy_image)\n",
    "    plt.axis(\"off\")\n",
    "    plt.title(f\"t = {t}\")\n",
    "\n",
    "plt.show()"
   ]
  },
  {
   "cell_type": "markdown",
   "metadata": {},
   "source": [
    "## Define the U-Net model for denoising"
   ]
  },
  {
   "cell_type": "code",
   "execution_count": 23,
   "metadata": {},
   "outputs": [],
   "source": [
    "import torch.nn as nn\n",
    "import torch.nn.functional as F"
   ]
  },
  {
   "cell_type": "code",
   "execution_count": 60,
   "metadata": {},
   "outputs": [],
   "source": [
    "\n",
    "class SimpleUNet(nn.Module):\n",
    "    def __init__(self):\n",
    "        super(SimpleUNet, self).__init__()\n",
    "        \n",
    "        # Encoding path (downsampling)\n",
    "        self.conv1 = nn.Conv2d(3, 64, kernel_size=3, padding=1)\n",
    "        self.conv2 = nn.Conv2d(64, 128, kernel_size=3, padding=1)\n",
    "        self.conv3 = nn.Conv2d(128, 256, kernel_size=3, padding=1)\n",
    "        \n",
    "        # Bottleneck\n",
    "        self.conv_mid = nn.Conv2d(256, 256, kernel_size=3, padding=1)\n",
    "        \n",
    "        # Decoding path (upsampling)\n",
    "        self.deconv3 = nn.ConvTranspose2d(256, 128, kernel_size=2, stride=2)\n",
    "        self.deconv2 = nn.ConvTranspose2d(128, 64, kernel_size=2, stride=2)\n",
    "        self.deconv1 = nn.ConvTranspose2d(64, 3, kernel_size=2, stride=2)\n",
    "        \n",
    "    def forward(self, x):\n",
    "        # Encoder\n",
    "        x1 = F.relu(self.conv1(x))\n",
    "        x2 = F.relu(self.conv2(F.max_pool2d(x1, 2)))\n",
    "        x3 = F.relu(self.conv3(F.max_pool2d(x2, 2)))\n",
    "\n",
    "        # Bottleneck\n",
    "        x_mid = F.relu(self.conv_mid(F.max_pool2d(x3, 2)))\n",
    "        \n",
    "        # Decoder\n",
    "        x_up3 = F.relu(self.deconv3(F.interpolate(x_mid, scale_factor=2, mode='nearest')))\n",
    "        x_up2 = F.relu(self.deconv2(F.interpolate(x_up3, scale_factor=2, mode='nearest')))\n",
    "        x_up1 = torch.tanh(self.deconv1(F.interpolate(x_up2, scale_factor=2, mode='nearest')))  # [-1,1] range\n",
    "\n",
    "        return x_up1"
   ]
  },
  {
   "cell_type": "code",
   "execution_count": null,
   "metadata": {},
   "outputs": [],
   "source": [
    "# Update SimpleUNet\n",
    "\n",
    "class SimpleUNet(nn.Module):\n",
    "    def __init__(self):\n",
    "        super(SimpleUNet, self).__init__()\n",
    "\n",
    "        # Encoding path\n",
    "        self.conv1 = nn.Conv2d(3, 64, kernel_size=3, padding=1)  \n",
    "        self.conv2 = nn.Conv2d(64, 128, kernel_size=3, padding=1)\n",
    "        self.conv3 = nn.Conv2d(128, 256, kernel_size=3, padding=1)\n",
    "\n",
    "        # Bottleneck\n",
    "        self.conv_mid = nn.Conv2d(256, 256, kernel_size=3, padding=1)\n",
    "\n",
    "        # Decoding path (match encoder's channel sizes)\n",
    "        self.deconv3 = nn.ConvTranspose2d(256, 128, kernel_size=2, stride=2)  # 256 → 128\n",
    "        self.deconv2 = nn.ConvTranspose2d(128, 64, kernel_size=2, stride=2)    # 128 → 64\n",
    "        self.deconv1 = nn.ConvTranspose2d(64, 3, kernel_size=2, stride=2)      # 64 → 3\n",
    "\n",
    "        # Normalize\n",
    "        self.bn = nn.BatchNorm2d(out_channels)  # Batch Normalization\n",
    "\n",
    "    def forward(self, x):\n",
    "        # Encoder\n",
    "        x1 = F.relu(self.conv1(x))  # (3 → 64)\n",
    "        x2 = F.relu(self.conv2(F.max_pool2d(x1, 2)))  # (64 → 128)\n",
    "        x3 = F.relu(self.conv3(F.max_pool2d(x2, 2)))  # (128 → 256)\n",
    "\n",
    "        # Bottleneck\n",
    "        x_mid = F.relu(self.conv_mid(F.max_pool2d(x3, 2)))  # (256 → 256)\n",
    "\n",
    "        # Decoder (skip connections)\n",
    "        x_up3 = F.relu(self.deconv3(x_mid))  # (256 → 128)\n",
    "\n",
    "        x_up2 = F.relu(self.deconv2(x_up3))  # (256 → 128 → 64)\n",
    "        x_up1 = self.deconv1(x_up2)  # (128 → 64 → 3)\n",
    "        x_up1 = torch.tanh(x_up1)  # Ensure output is in [-1,1]\n",
    "\n",
    "        # Ensure output size matches input\n",
    "        x_up1 = F.interpolate(x_up1, size=(32, 32), mode='bilinear', align_corners=False)\n",
    "\n",
    "        return x_up1\n"
   ]
  },
  {
   "cell_type": "code",
   "execution_count": 71,
   "metadata": {},
   "outputs": [],
   "source": [
    "# Net v3 with batch normalization\n",
    "import torch\n",
    "import torch.nn as nn\n",
    "import torch.nn.functional as F\n",
    "\n",
    "class SimpleUNet(nn.Module):\n",
    "    def __init__(self):\n",
    "        super(SimpleUNet, self).__init__()\n",
    "\n",
    "        # Encoding path\n",
    "        self.conv1 = nn.Conv2d(3, 64, kernel_size=3, padding=1)\n",
    "        self.bn1 = nn.BatchNorm2d(64)  # BatchNorm after conv1\n",
    "        \n",
    "        self.conv2 = nn.Conv2d(64, 128, kernel_size=3, padding=1)\n",
    "        self.bn2 = nn.BatchNorm2d(128)  # BatchNorm after conv2\n",
    "        \n",
    "        self.conv3 = nn.Conv2d(128, 256, kernel_size=3, padding=1)\n",
    "        self.bn3 = nn.BatchNorm2d(256)  # BatchNorm after conv3\n",
    "\n",
    "        # Bottleneck\n",
    "        self.conv_mid = nn.Conv2d(256, 256, kernel_size=3, padding=1)\n",
    "        self.bn_mid = nn.BatchNorm2d(256)  # BatchNorm in bottleneck\n",
    "\n",
    "        # Decoding path\n",
    "        self.deconv3 = nn.ConvTranspose2d(256, 128, kernel_size=2, stride=2)\n",
    "        self.bn_deconv3 = nn.BatchNorm2d(128)  # BatchNorm in decoder\n",
    "        \n",
    "        self.deconv2 = nn.ConvTranspose2d(128, 64, kernel_size=2, stride=2)\n",
    "        self.bn_deconv2 = nn.BatchNorm2d(64)  # BatchNorm in decoder\n",
    "        \n",
    "        self.deconv1 = nn.ConvTranspose2d(64, 3, kernel_size=2, stride=2)\n",
    "\n",
    "    def forward(self, x):\n",
    "        # Encoder\n",
    "        x1 = F.relu(self.bn1(self.conv1(x)))  # (3 → 64)\n",
    "        x2 = F.relu(self.bn2(self.conv2(F.max_pool2d(x1, 2))))  # (64 → 128)\n",
    "        x3 = F.relu(self.bn3(self.conv3(F.max_pool2d(x2, 2))))  # (128 → 256)\n",
    "\n",
    "        # Bottleneck\n",
    "        x_mid = F.relu(self.bn_mid(self.conv_mid(F.max_pool2d(x3, 2))))  # (256 → 256)\n",
    "\n",
    "        # Decoder (skip connections)\n",
    "        x_up3 = F.relu(self.bn_deconv3(self.deconv3(x_mid)))  # (256 → 128)\n",
    "        x_up2 = F.relu(self.bn_deconv2(self.deconv2(x_up3)))  # (128 → 64)\n",
    "        x_up1 = self.deconv1(x_up2)  # (64 → 3)\n",
    "        x_up1 = torch.tanh(x_up1)  # Ensure output is in [-1,1]\n",
    "\n",
    "        # Ensure output size matches input\n",
    "        x_up1 = F.interpolate(x_up1, size=(32, 32), mode='bilinear', align_corners=False)\n",
    "\n",
    "        return x_up1\n"
   ]
  },
  {
   "cell_type": "markdown",
   "metadata": {},
   "source": [
    "## Train the model to predict the noise"
   ]
  },
  {
   "cell_type": "code",
   "execution_count": 12,
   "metadata": {},
   "outputs": [
    {
     "ename": "ModuleNotFoundError",
     "evalue": "No module named 'models'",
     "output_type": "error",
     "traceback": [
      "\u001b[0;31m---------------------------------------------------------------------------\u001b[0m",
      "\u001b[0;31mModuleNotFoundError\u001b[0m                       Traceback (most recent call last)",
      "Cell \u001b[0;32mIn[12], line 2\u001b[0m\n\u001b[1;32m      1\u001b[0m \u001b[38;5;28;01mimport\u001b[39;00m\u001b[38;5;250m \u001b[39m\u001b[38;5;21;01mtorch\u001b[39;00m\u001b[38;5;21;01m.\u001b[39;00m\u001b[38;5;21;01moptim\u001b[39;00m\u001b[38;5;250m \u001b[39m\u001b[38;5;28;01mas\u001b[39;00m\u001b[38;5;250m \u001b[39m\u001b[38;5;21;01moptim\u001b[39;00m\n\u001b[0;32m----> 2\u001b[0m \u001b[38;5;28;01mimport\u001b[39;00m\u001b[38;5;250m \u001b[39m\u001b[38;5;21;01msrc\u001b[39;00m\u001b[38;5;21;01m.\u001b[39;00m\u001b[38;5;21;01mmodels\u001b[39;00m\u001b[38;5;21;01m.\u001b[39;00m\u001b[38;5;21;01munet\u001b[39;00m\u001b[38;5;250m \u001b[39m\u001b[38;5;28;01mas\u001b[39;00m\u001b[38;5;250m \u001b[39m\u001b[38;5;21;01mnet\u001b[39;00m\n\u001b[1;32m      3\u001b[0m \u001b[38;5;66;03m# Initialize model, optimizer, and loss function\u001b[39;00m\n\u001b[1;32m      4\u001b[0m device \u001b[38;5;241m=\u001b[39m torch\u001b[38;5;241m.\u001b[39mdevice(\u001b[38;5;124m\"\u001b[39m\u001b[38;5;124mcuda\u001b[39m\u001b[38;5;124m\"\u001b[39m \u001b[38;5;28;01mif\u001b[39;00m torch\u001b[38;5;241m.\u001b[39mcuda\u001b[38;5;241m.\u001b[39mis_available() \u001b[38;5;28;01melse\u001b[39;00m \u001b[38;5;124m\"\u001b[39m\u001b[38;5;124mcpu\u001b[39m\u001b[38;5;124m\"\u001b[39m)\n",
      "File \u001b[0;32m~/Documents/Github/pkmn-infinite-diffusion/src/models/unet.py:7\u001b[0m\n\u001b[1;32m      4\u001b[0m \u001b[38;5;28;01mfrom\u001b[39;00m\u001b[38;5;250m \u001b[39m\u001b[38;5;21;01mtorch\u001b[39;00m\u001b[38;5;21;01m.\u001b[39;00m\u001b[38;5;21;01mnn\u001b[39;00m\u001b[38;5;250m \u001b[39m\u001b[38;5;28;01mimport\u001b[39;00m functional \u001b[38;5;28;01mas\u001b[39;00m F\n\u001b[1;32m      5\u001b[0m \u001b[38;5;28;01mfrom\u001b[39;00m\u001b[38;5;250m \u001b[39m\u001b[38;5;21;01meinops\u001b[39;00m\u001b[38;5;21;01m.\u001b[39;00m\u001b[38;5;21;01mlayers\u001b[39;00m\u001b[38;5;21;01m.\u001b[39;00m\u001b[38;5;21;01mtorch\u001b[39;00m\u001b[38;5;250m \u001b[39m\u001b[38;5;28;01mimport\u001b[39;00m Rearrange\n\u001b[0;32m----> 7\u001b[0m \u001b[38;5;28;01mfrom\u001b[39;00m\u001b[38;5;250m \u001b[39m\u001b[38;5;21;01mmodels\u001b[39;00m\u001b[38;5;21;01m.\u001b[39;00m\u001b[38;5;21;01mattention\u001b[39;00m\u001b[38;5;250m \u001b[39m\u001b[38;5;28;01mimport\u001b[39;00m Attention\n\u001b[1;32m     11\u001b[0m \u001b[38;5;28;01mdef\u001b[39;00m\u001b[38;5;250m \u001b[39m\u001b[38;5;21mget_downsample_layer\u001b[39m(in_dim, hidden_dim, is_last):\n\u001b[1;32m     12\u001b[0m     \u001b[38;5;28;01mif\u001b[39;00m \u001b[38;5;129;01mnot\u001b[39;00m is_last:\n",
      "\u001b[0;31mModuleNotFoundError\u001b[0m: No module named 'models'"
     ]
    }
   ],
   "source": [
    "import torch.optim as optim\n",
    "import src.models.unet as net\n",
    "# Initialize model, optimizer, and loss function\n",
    "device = torch.device(\"cuda\" if torch.cuda.is_available() else \"cpu\")\n",
    "# model = SimpleUNet().to(device)\n",
    "model = u.UNet().to(device)\n",
    "scheduler = NoiseScheduler(num_timesteps=1000, device=device)\n",
    "\n",
    "# Move scheduler's tensors to the correct device\n",
    "scheduler.beta_t = scheduler.beta_t.to(device)\n",
    "scheduler.alpha_t = scheduler.alpha_t.to(device)\n",
    "scheduler.alpha_bar_t = scheduler.alpha_bar_t.to(device)\n",
    "\n",
    "optimizer = optim.Adam(model.parameters(), weight_decay=1e-4, lr=1e-4) # 1e-3 was causing exploding weights\n",
    "criterion = nn.MSELoss()  # Predicting noise, so we use MSE loss\n"
   ]
  },
  {
   "cell_type": "code",
   "execution_count": 73,
   "metadata": {},
   "outputs": [],
   "source": [
    "\n",
    "# Define checkpoint directory\n",
    "checkpoint_dir = \"src/models/\"\n",
    "os.makedirs(checkpoint_dir, exist_ok=True)\n",
    "\n",
    "# Save model\n",
    "def save_model(model, epoch):\n",
    "    checkpoint_path = os.path.join(checkpoint_dir, f\"model_epoch_{epoch}.pth\")\n",
    "    torch.save(model.state_dict(), checkpoint_path)\n",
    "    print(f\"Checkpoint saved: {checkpoint_path}\")\n",
    "\n",
    "def load_model(model, checkpoint_path):\n",
    "    model.load_state_dict(torch.load(checkpoint_path))\n",
    "    model.eval()  # Set to evaluation mode\n",
    "    print(f\"Loaded model from {checkpoint_path}\")\n",
    "    return model\n",
    "\n"
   ]
  },
  {
   "cell_type": "code",
   "execution_count": 74,
   "metadata": {},
   "outputs": [
    {
     "name": "stderr",
     "output_type": "stream",
     "text": [
      "/home/rakurai/.cache/pypoetry/virtualenvs/pkmn-infinite-diffusion-sgfbErnI-py3.10/lib/python3.10/site-packages/PIL/Image.py:1045: UserWarning: Palette images with Transparency expressed in bytes should be converted to RGBA images\n",
      "  warnings.warn(\n",
      "/home/rakurai/.cache/pypoetry/virtualenvs/pkmn-infinite-diffusion-sgfbErnI-py3.10/lib/python3.10/site-packages/PIL/Image.py:1045: UserWarning: Palette images with Transparency expressed in bytes should be converted to RGBA images\n",
      "  warnings.warn(\n",
      "/home/rakurai/.cache/pypoetry/virtualenvs/pkmn-infinite-diffusion-sgfbErnI-py3.10/lib/python3.10/site-packages/PIL/Image.py:1045: UserWarning: Palette images with Transparency expressed in bytes should be converted to RGBA images\n",
      "  warnings.warn(\n",
      "/home/rakurai/.cache/pypoetry/virtualenvs/pkmn-infinite-diffusion-sgfbErnI-py3.10/lib/python3.10/site-packages/PIL/Image.py:1045: UserWarning: Palette images with Transparency expressed in bytes should be converted to RGBA images\n",
      "  warnings.warn(\n",
      "/home/rakurai/.cache/pypoetry/virtualenvs/pkmn-infinite-diffusion-sgfbErnI-py3.10/lib/python3.10/site-packages/PIL/Image.py:1045: UserWarning: Palette images with Transparency expressed in bytes should be converted to RGBA images\n",
      "  warnings.warn(\n",
      "/home/rakurai/.cache/pypoetry/virtualenvs/pkmn-infinite-diffusion-sgfbErnI-py3.10/lib/python3.10/site-packages/PIL/Image.py:1045: UserWarning: Palette images with Transparency expressed in bytes should be converted to RGBA images\n",
      "  warnings.warn(\n",
      "/home/rakurai/.cache/pypoetry/virtualenvs/pkmn-infinite-diffusion-sgfbErnI-py3.10/lib/python3.10/site-packages/PIL/Image.py:1045: UserWarning: Palette images with Transparency expressed in bytes should be converted to RGBA images\n",
      "  warnings.warn(\n",
      "/home/rakurai/.cache/pypoetry/virtualenvs/pkmn-infinite-diffusion-sgfbErnI-py3.10/lib/python3.10/site-packages/PIL/Image.py:1045: UserWarning: Palette images with Transparency expressed in bytes should be converted to RGBA images\n",
      "  warnings.warn(\n"
     ]
    },
    {
     "name": "stdout",
     "output_type": "stream",
     "text": [
      "Epoch 1/10, Batch 0, Loss: 1.3477\n",
      "Epoch 1/10, Batch 1000, Loss: 0.9695\n",
      "Checkpoint saved: src/models/model_epoch_0.pth\n"
     ]
    },
    {
     "name": "stderr",
     "output_type": "stream",
     "text": [
      "/home/rakurai/.cache/pypoetry/virtualenvs/pkmn-infinite-diffusion-sgfbErnI-py3.10/lib/python3.10/site-packages/PIL/Image.py:1045: UserWarning: Palette images with Transparency expressed in bytes should be converted to RGBA images\n",
      "  warnings.warn(\n",
      "/home/rakurai/.cache/pypoetry/virtualenvs/pkmn-infinite-diffusion-sgfbErnI-py3.10/lib/python3.10/site-packages/PIL/Image.py:1045: UserWarning: Palette images with Transparency expressed in bytes should be converted to RGBA images\n",
      "  warnings.warn(\n",
      "/home/rakurai/.cache/pypoetry/virtualenvs/pkmn-infinite-diffusion-sgfbErnI-py3.10/lib/python3.10/site-packages/PIL/Image.py:1045: UserWarning: Palette images with Transparency expressed in bytes should be converted to RGBA images\n",
      "  warnings.warn(\n",
      "/home/rakurai/.cache/pypoetry/virtualenvs/pkmn-infinite-diffusion-sgfbErnI-py3.10/lib/python3.10/site-packages/PIL/Image.py:1045: UserWarning: Palette images with Transparency expressed in bytes should be converted to RGBA images\n",
      "  warnings.warn(\n",
      "/home/rakurai/.cache/pypoetry/virtualenvs/pkmn-infinite-diffusion-sgfbErnI-py3.10/lib/python3.10/site-packages/PIL/Image.py:1045: UserWarning: Palette images with Transparency expressed in bytes should be converted to RGBA images\n",
      "  warnings.warn(\n",
      "/home/rakurai/.cache/pypoetry/virtualenvs/pkmn-infinite-diffusion-sgfbErnI-py3.10/lib/python3.10/site-packages/PIL/Image.py:1045: UserWarning: Palette images with Transparency expressed in bytes should be converted to RGBA images\n",
      "  warnings.warn(\n",
      "/home/rakurai/.cache/pypoetry/virtualenvs/pkmn-infinite-diffusion-sgfbErnI-py3.10/lib/python3.10/site-packages/PIL/Image.py:1045: UserWarning: Palette images with Transparency expressed in bytes should be converted to RGBA images\n",
      "  warnings.warn(\n",
      "/home/rakurai/.cache/pypoetry/virtualenvs/pkmn-infinite-diffusion-sgfbErnI-py3.10/lib/python3.10/site-packages/PIL/Image.py:1045: UserWarning: Palette images with Transparency expressed in bytes should be converted to RGBA images\n",
      "  warnings.warn(\n"
     ]
    },
    {
     "name": "stdout",
     "output_type": "stream",
     "text": [
      "Epoch 2/10, Batch 0, Loss: 0.9316\n",
      "Epoch 2/10, Batch 1000, Loss: 0.8692\n",
      "Checkpoint saved: src/models/model_epoch_1.pth\n"
     ]
    },
    {
     "name": "stderr",
     "output_type": "stream",
     "text": [
      "/home/rakurai/.cache/pypoetry/virtualenvs/pkmn-infinite-diffusion-sgfbErnI-py3.10/lib/python3.10/site-packages/PIL/Image.py:1045: UserWarning: Palette images with Transparency expressed in bytes should be converted to RGBA images\n",
      "  warnings.warn(\n",
      "/home/rakurai/.cache/pypoetry/virtualenvs/pkmn-infinite-diffusion-sgfbErnI-py3.10/lib/python3.10/site-packages/PIL/Image.py:1045: UserWarning: Palette images with Transparency expressed in bytes should be converted to RGBA images\n",
      "  warnings.warn(\n",
      "/home/rakurai/.cache/pypoetry/virtualenvs/pkmn-infinite-diffusion-sgfbErnI-py3.10/lib/python3.10/site-packages/PIL/Image.py:1045: UserWarning: Palette images with Transparency expressed in bytes should be converted to RGBA images\n",
      "  warnings.warn(\n",
      "/home/rakurai/.cache/pypoetry/virtualenvs/pkmn-infinite-diffusion-sgfbErnI-py3.10/lib/python3.10/site-packages/PIL/Image.py:1045: UserWarning: Palette images with Transparency expressed in bytes should be converted to RGBA images\n",
      "  warnings.warn(\n",
      "/home/rakurai/.cache/pypoetry/virtualenvs/pkmn-infinite-diffusion-sgfbErnI-py3.10/lib/python3.10/site-packages/PIL/Image.py:1045: UserWarning: Palette images with Transparency expressed in bytes should be converted to RGBA images\n",
      "  warnings.warn(\n",
      "/home/rakurai/.cache/pypoetry/virtualenvs/pkmn-infinite-diffusion-sgfbErnI-py3.10/lib/python3.10/site-packages/PIL/Image.py:1045: UserWarning: Palette images with Transparency expressed in bytes should be converted to RGBA images\n",
      "  warnings.warn(\n",
      "/home/rakurai/.cache/pypoetry/virtualenvs/pkmn-infinite-diffusion-sgfbErnI-py3.10/lib/python3.10/site-packages/PIL/Image.py:1045: UserWarning: Palette images with Transparency expressed in bytes should be converted to RGBA images\n",
      "  warnings.warn(\n",
      "/home/rakurai/.cache/pypoetry/virtualenvs/pkmn-infinite-diffusion-sgfbErnI-py3.10/lib/python3.10/site-packages/PIL/Image.py:1045: UserWarning: Palette images with Transparency expressed in bytes should be converted to RGBA images\n",
      "  warnings.warn(\n"
     ]
    },
    {
     "name": "stdout",
     "output_type": "stream",
     "text": [
      "Epoch 3/10, Batch 0, Loss: 0.8519\n",
      "Epoch 3/10, Batch 1000, Loss: 0.8322\n",
      "Checkpoint saved: src/models/model_epoch_2.pth\n"
     ]
    },
    {
     "name": "stderr",
     "output_type": "stream",
     "text": [
      "/home/rakurai/.cache/pypoetry/virtualenvs/pkmn-infinite-diffusion-sgfbErnI-py3.10/lib/python3.10/site-packages/PIL/Image.py:1045: UserWarning: Palette images with Transparency expressed in bytes should be converted to RGBA images\n",
      "  warnings.warn(\n",
      "/home/rakurai/.cache/pypoetry/virtualenvs/pkmn-infinite-diffusion-sgfbErnI-py3.10/lib/python3.10/site-packages/PIL/Image.py:1045: UserWarning: Palette images with Transparency expressed in bytes should be converted to RGBA images\n",
      "  warnings.warn(\n",
      "/home/rakurai/.cache/pypoetry/virtualenvs/pkmn-infinite-diffusion-sgfbErnI-py3.10/lib/python3.10/site-packages/PIL/Image.py:1045: UserWarning: Palette images with Transparency expressed in bytes should be converted to RGBA images\n",
      "  warnings.warn(\n",
      "/home/rakurai/.cache/pypoetry/virtualenvs/pkmn-infinite-diffusion-sgfbErnI-py3.10/lib/python3.10/site-packages/PIL/Image.py:1045: UserWarning: Palette images with Transparency expressed in bytes should be converted to RGBA images\n",
      "  warnings.warn(\n",
      "/home/rakurai/.cache/pypoetry/virtualenvs/pkmn-infinite-diffusion-sgfbErnI-py3.10/lib/python3.10/site-packages/PIL/Image.py:1045: UserWarning: Palette images with Transparency expressed in bytes should be converted to RGBA images\n",
      "  warnings.warn(\n",
      "/home/rakurai/.cache/pypoetry/virtualenvs/pkmn-infinite-diffusion-sgfbErnI-py3.10/lib/python3.10/site-packages/PIL/Image.py:1045: UserWarning: Palette images with Transparency expressed in bytes should be converted to RGBA images\n",
      "  warnings.warn(\n",
      "/home/rakurai/.cache/pypoetry/virtualenvs/pkmn-infinite-diffusion-sgfbErnI-py3.10/lib/python3.10/site-packages/PIL/Image.py:1045: UserWarning: Palette images with Transparency expressed in bytes should be converted to RGBA images\n",
      "  warnings.warn(\n",
      "/home/rakurai/.cache/pypoetry/virtualenvs/pkmn-infinite-diffusion-sgfbErnI-py3.10/lib/python3.10/site-packages/PIL/Image.py:1045: UserWarning: Palette images with Transparency expressed in bytes should be converted to RGBA images\n",
      "  warnings.warn(\n"
     ]
    },
    {
     "name": "stdout",
     "output_type": "stream",
     "text": [
      "Epoch 4/10, Batch 0, Loss: 0.8196\n",
      "Epoch 4/10, Batch 1000, Loss: 0.8049\n",
      "Checkpoint saved: src/models/model_epoch_3.pth\n"
     ]
    },
    {
     "name": "stderr",
     "output_type": "stream",
     "text": [
      "/home/rakurai/.cache/pypoetry/virtualenvs/pkmn-infinite-diffusion-sgfbErnI-py3.10/lib/python3.10/site-packages/PIL/Image.py:1045: UserWarning: Palette images with Transparency expressed in bytes should be converted to RGBA images\n",
      "  warnings.warn(\n",
      "/home/rakurai/.cache/pypoetry/virtualenvs/pkmn-infinite-diffusion-sgfbErnI-py3.10/lib/python3.10/site-packages/PIL/Image.py:1045: UserWarning: Palette images with Transparency expressed in bytes should be converted to RGBA images\n",
      "  warnings.warn(\n",
      "/home/rakurai/.cache/pypoetry/virtualenvs/pkmn-infinite-diffusion-sgfbErnI-py3.10/lib/python3.10/site-packages/PIL/Image.py:1045: UserWarning: Palette images with Transparency expressed in bytes should be converted to RGBA images\n",
      "  warnings.warn(\n",
      "/home/rakurai/.cache/pypoetry/virtualenvs/pkmn-infinite-diffusion-sgfbErnI-py3.10/lib/python3.10/site-packages/PIL/Image.py:1045: UserWarning: Palette images with Transparency expressed in bytes should be converted to RGBA images\n",
      "  warnings.warn(\n",
      "/home/rakurai/.cache/pypoetry/virtualenvs/pkmn-infinite-diffusion-sgfbErnI-py3.10/lib/python3.10/site-packages/PIL/Image.py:1045: UserWarning: Palette images with Transparency expressed in bytes should be converted to RGBA images\n",
      "  warnings.warn(\n",
      "/home/rakurai/.cache/pypoetry/virtualenvs/pkmn-infinite-diffusion-sgfbErnI-py3.10/lib/python3.10/site-packages/PIL/Image.py:1045: UserWarning: Palette images with Transparency expressed in bytes should be converted to RGBA images\n",
      "  warnings.warn(\n",
      "/home/rakurai/.cache/pypoetry/virtualenvs/pkmn-infinite-diffusion-sgfbErnI-py3.10/lib/python3.10/site-packages/PIL/Image.py:1045: UserWarning: Palette images with Transparency expressed in bytes should be converted to RGBA images\n",
      "  warnings.warn(\n",
      "/home/rakurai/.cache/pypoetry/virtualenvs/pkmn-infinite-diffusion-sgfbErnI-py3.10/lib/python3.10/site-packages/PIL/Image.py:1045: UserWarning: Palette images with Transparency expressed in bytes should be converted to RGBA images\n",
      "  warnings.warn(\n"
     ]
    },
    {
     "name": "stdout",
     "output_type": "stream",
     "text": [
      "Epoch 5/10, Batch 0, Loss: 0.8084\n",
      "Epoch 5/10, Batch 1000, Loss: 0.7829\n",
      "Checkpoint saved: src/models/model_epoch_4.pth\n"
     ]
    },
    {
     "name": "stderr",
     "output_type": "stream",
     "text": [
      "/home/rakurai/.cache/pypoetry/virtualenvs/pkmn-infinite-diffusion-sgfbErnI-py3.10/lib/python3.10/site-packages/PIL/Image.py:1045: UserWarning: Palette images with Transparency expressed in bytes should be converted to RGBA images\n",
      "  warnings.warn(\n",
      "/home/rakurai/.cache/pypoetry/virtualenvs/pkmn-infinite-diffusion-sgfbErnI-py3.10/lib/python3.10/site-packages/PIL/Image.py:1045: UserWarning: Palette images with Transparency expressed in bytes should be converted to RGBA images\n",
      "  warnings.warn(\n",
      "/home/rakurai/.cache/pypoetry/virtualenvs/pkmn-infinite-diffusion-sgfbErnI-py3.10/lib/python3.10/site-packages/PIL/Image.py:1045: UserWarning: Palette images with Transparency expressed in bytes should be converted to RGBA images\n",
      "  warnings.warn(\n",
      "/home/rakurai/.cache/pypoetry/virtualenvs/pkmn-infinite-diffusion-sgfbErnI-py3.10/lib/python3.10/site-packages/PIL/Image.py:1045: UserWarning: Palette images with Transparency expressed in bytes should be converted to RGBA images\n",
      "  warnings.warn(\n",
      "/home/rakurai/.cache/pypoetry/virtualenvs/pkmn-infinite-diffusion-sgfbErnI-py3.10/lib/python3.10/site-packages/PIL/Image.py:1045: UserWarning: Palette images with Transparency expressed in bytes should be converted to RGBA images\n",
      "  warnings.warn(\n",
      "/home/rakurai/.cache/pypoetry/virtualenvs/pkmn-infinite-diffusion-sgfbErnI-py3.10/lib/python3.10/site-packages/PIL/Image.py:1045: UserWarning: Palette images with Transparency expressed in bytes should be converted to RGBA images\n",
      "  warnings.warn(\n",
      "/home/rakurai/.cache/pypoetry/virtualenvs/pkmn-infinite-diffusion-sgfbErnI-py3.10/lib/python3.10/site-packages/PIL/Image.py:1045: UserWarning: Palette images with Transparency expressed in bytes should be converted to RGBA images\n",
      "  warnings.warn(\n",
      "/home/rakurai/.cache/pypoetry/virtualenvs/pkmn-infinite-diffusion-sgfbErnI-py3.10/lib/python3.10/site-packages/PIL/Image.py:1045: UserWarning: Palette images with Transparency expressed in bytes should be converted to RGBA images\n",
      "  warnings.warn(\n"
     ]
    },
    {
     "name": "stdout",
     "output_type": "stream",
     "text": [
      "Epoch 6/10, Batch 0, Loss: 0.7830\n",
      "Epoch 6/10, Batch 1000, Loss: 0.7776\n",
      "Checkpoint saved: src/models/model_epoch_5.pth\n"
     ]
    },
    {
     "name": "stderr",
     "output_type": "stream",
     "text": [
      "/home/rakurai/.cache/pypoetry/virtualenvs/pkmn-infinite-diffusion-sgfbErnI-py3.10/lib/python3.10/site-packages/PIL/Image.py:1045: UserWarning: Palette images with Transparency expressed in bytes should be converted to RGBA images\n",
      "  warnings.warn(\n",
      "/home/rakurai/.cache/pypoetry/virtualenvs/pkmn-infinite-diffusion-sgfbErnI-py3.10/lib/python3.10/site-packages/PIL/Image.py:1045: UserWarning: Palette images with Transparency expressed in bytes should be converted to RGBA images\n",
      "  warnings.warn(\n",
      "/home/rakurai/.cache/pypoetry/virtualenvs/pkmn-infinite-diffusion-sgfbErnI-py3.10/lib/python3.10/site-packages/PIL/Image.py:1045: UserWarning: Palette images with Transparency expressed in bytes should be converted to RGBA images\n",
      "  warnings.warn(\n",
      "/home/rakurai/.cache/pypoetry/virtualenvs/pkmn-infinite-diffusion-sgfbErnI-py3.10/lib/python3.10/site-packages/PIL/Image.py:1045: UserWarning: Palette images with Transparency expressed in bytes should be converted to RGBA images\n",
      "  warnings.warn(\n",
      "/home/rakurai/.cache/pypoetry/virtualenvs/pkmn-infinite-diffusion-sgfbErnI-py3.10/lib/python3.10/site-packages/PIL/Image.py:1045: UserWarning: Palette images with Transparency expressed in bytes should be converted to RGBA images\n",
      "  warnings.warn(\n",
      "/home/rakurai/.cache/pypoetry/virtualenvs/pkmn-infinite-diffusion-sgfbErnI-py3.10/lib/python3.10/site-packages/PIL/Image.py:1045: UserWarning: Palette images with Transparency expressed in bytes should be converted to RGBA images\n",
      "  warnings.warn(\n",
      "/home/rakurai/.cache/pypoetry/virtualenvs/pkmn-infinite-diffusion-sgfbErnI-py3.10/lib/python3.10/site-packages/PIL/Image.py:1045: UserWarning: Palette images with Transparency expressed in bytes should be converted to RGBA images\n",
      "  warnings.warn(\n",
      "/home/rakurai/.cache/pypoetry/virtualenvs/pkmn-infinite-diffusion-sgfbErnI-py3.10/lib/python3.10/site-packages/PIL/Image.py:1045: UserWarning: Palette images with Transparency expressed in bytes should be converted to RGBA images\n",
      "  warnings.warn(\n"
     ]
    },
    {
     "name": "stdout",
     "output_type": "stream",
     "text": [
      "Epoch 7/10, Batch 0, Loss: 0.7663\n",
      "Epoch 7/10, Batch 1000, Loss: 0.7734\n",
      "Checkpoint saved: src/models/model_epoch_6.pth\n"
     ]
    },
    {
     "name": "stderr",
     "output_type": "stream",
     "text": [
      "/home/rakurai/.cache/pypoetry/virtualenvs/pkmn-infinite-diffusion-sgfbErnI-py3.10/lib/python3.10/site-packages/PIL/Image.py:1045: UserWarning: Palette images with Transparency expressed in bytes should be converted to RGBA images\n",
      "  warnings.warn(\n",
      "/home/rakurai/.cache/pypoetry/virtualenvs/pkmn-infinite-diffusion-sgfbErnI-py3.10/lib/python3.10/site-packages/PIL/Image.py:1045: UserWarning: Palette images with Transparency expressed in bytes should be converted to RGBA images\n",
      "  warnings.warn(\n",
      "/home/rakurai/.cache/pypoetry/virtualenvs/pkmn-infinite-diffusion-sgfbErnI-py3.10/lib/python3.10/site-packages/PIL/Image.py:1045: UserWarning: Palette images with Transparency expressed in bytes should be converted to RGBA images\n",
      "  warnings.warn(\n",
      "/home/rakurai/.cache/pypoetry/virtualenvs/pkmn-infinite-diffusion-sgfbErnI-py3.10/lib/python3.10/site-packages/PIL/Image.py:1045: UserWarning: Palette images with Transparency expressed in bytes should be converted to RGBA images\n",
      "  warnings.warn(\n",
      "/home/rakurai/.cache/pypoetry/virtualenvs/pkmn-infinite-diffusion-sgfbErnI-py3.10/lib/python3.10/site-packages/PIL/Image.py:1045: UserWarning: Palette images with Transparency expressed in bytes should be converted to RGBA images\n",
      "  warnings.warn(\n",
      "/home/rakurai/.cache/pypoetry/virtualenvs/pkmn-infinite-diffusion-sgfbErnI-py3.10/lib/python3.10/site-packages/PIL/Image.py:1045: UserWarning: Palette images with Transparency expressed in bytes should be converted to RGBA images\n",
      "  warnings.warn(\n",
      "/home/rakurai/.cache/pypoetry/virtualenvs/pkmn-infinite-diffusion-sgfbErnI-py3.10/lib/python3.10/site-packages/PIL/Image.py:1045: UserWarning: Palette images with Transparency expressed in bytes should be converted to RGBA images\n",
      "  warnings.warn(\n",
      "/home/rakurai/.cache/pypoetry/virtualenvs/pkmn-infinite-diffusion-sgfbErnI-py3.10/lib/python3.10/site-packages/PIL/Image.py:1045: UserWarning: Palette images with Transparency expressed in bytes should be converted to RGBA images\n",
      "  warnings.warn(\n"
     ]
    },
    {
     "name": "stdout",
     "output_type": "stream",
     "text": [
      "Epoch 8/10, Batch 0, Loss: 0.7588\n",
      "Epoch 8/10, Batch 1000, Loss: 0.7554\n",
      "Checkpoint saved: src/models/model_epoch_7.pth\n"
     ]
    },
    {
     "name": "stderr",
     "output_type": "stream",
     "text": [
      "/home/rakurai/.cache/pypoetry/virtualenvs/pkmn-infinite-diffusion-sgfbErnI-py3.10/lib/python3.10/site-packages/PIL/Image.py:1045: UserWarning: Palette images with Transparency expressed in bytes should be converted to RGBA images\n",
      "  warnings.warn(\n",
      "/home/rakurai/.cache/pypoetry/virtualenvs/pkmn-infinite-diffusion-sgfbErnI-py3.10/lib/python3.10/site-packages/PIL/Image.py:1045: UserWarning: Palette images with Transparency expressed in bytes should be converted to RGBA images\n",
      "  warnings.warn(\n",
      "/home/rakurai/.cache/pypoetry/virtualenvs/pkmn-infinite-diffusion-sgfbErnI-py3.10/lib/python3.10/site-packages/PIL/Image.py:1045: UserWarning: Palette images with Transparency expressed in bytes should be converted to RGBA images\n",
      "  warnings.warn(\n",
      "/home/rakurai/.cache/pypoetry/virtualenvs/pkmn-infinite-diffusion-sgfbErnI-py3.10/lib/python3.10/site-packages/PIL/Image.py:1045: UserWarning: Palette images with Transparency expressed in bytes should be converted to RGBA images\n",
      "  warnings.warn(\n",
      "/home/rakurai/.cache/pypoetry/virtualenvs/pkmn-infinite-diffusion-sgfbErnI-py3.10/lib/python3.10/site-packages/PIL/Image.py:1045: UserWarning: Palette images with Transparency expressed in bytes should be converted to RGBA images\n",
      "  warnings.warn(\n",
      "/home/rakurai/.cache/pypoetry/virtualenvs/pkmn-infinite-diffusion-sgfbErnI-py3.10/lib/python3.10/site-packages/PIL/Image.py:1045: UserWarning: Palette images with Transparency expressed in bytes should be converted to RGBA images\n",
      "  warnings.warn(\n",
      "/home/rakurai/.cache/pypoetry/virtualenvs/pkmn-infinite-diffusion-sgfbErnI-py3.10/lib/python3.10/site-packages/PIL/Image.py:1045: UserWarning: Palette images with Transparency expressed in bytes should be converted to RGBA images\n",
      "  warnings.warn(\n",
      "/home/rakurai/.cache/pypoetry/virtualenvs/pkmn-infinite-diffusion-sgfbErnI-py3.10/lib/python3.10/site-packages/PIL/Image.py:1045: UserWarning: Palette images with Transparency expressed in bytes should be converted to RGBA images\n",
      "  warnings.warn(\n"
     ]
    },
    {
     "name": "stdout",
     "output_type": "stream",
     "text": [
      "Epoch 9/10, Batch 0, Loss: 0.7566\n",
      "Epoch 9/10, Batch 1000, Loss: 0.7562\n",
      "Checkpoint saved: src/models/model_epoch_8.pth\n"
     ]
    },
    {
     "name": "stderr",
     "output_type": "stream",
     "text": [
      "/home/rakurai/.cache/pypoetry/virtualenvs/pkmn-infinite-diffusion-sgfbErnI-py3.10/lib/python3.10/site-packages/PIL/Image.py:1045: UserWarning: Palette images with Transparency expressed in bytes should be converted to RGBA images\n",
      "  warnings.warn(\n",
      "/home/rakurai/.cache/pypoetry/virtualenvs/pkmn-infinite-diffusion-sgfbErnI-py3.10/lib/python3.10/site-packages/PIL/Image.py:1045: UserWarning: Palette images with Transparency expressed in bytes should be converted to RGBA images\n",
      "  warnings.warn(\n",
      "/home/rakurai/.cache/pypoetry/virtualenvs/pkmn-infinite-diffusion-sgfbErnI-py3.10/lib/python3.10/site-packages/PIL/Image.py:1045: UserWarning: Palette images with Transparency expressed in bytes should be converted to RGBA images\n",
      "  warnings.warn(\n",
      "/home/rakurai/.cache/pypoetry/virtualenvs/pkmn-infinite-diffusion-sgfbErnI-py3.10/lib/python3.10/site-packages/PIL/Image.py:1045: UserWarning: Palette images with Transparency expressed in bytes should be converted to RGBA images\n",
      "  warnings.warn(\n",
      "/home/rakurai/.cache/pypoetry/virtualenvs/pkmn-infinite-diffusion-sgfbErnI-py3.10/lib/python3.10/site-packages/PIL/Image.py:1045: UserWarning: Palette images with Transparency expressed in bytes should be converted to RGBA images\n",
      "  warnings.warn(\n",
      "/home/rakurai/.cache/pypoetry/virtualenvs/pkmn-infinite-diffusion-sgfbErnI-py3.10/lib/python3.10/site-packages/PIL/Image.py:1045: UserWarning: Palette images with Transparency expressed in bytes should be converted to RGBA images\n",
      "  warnings.warn(\n",
      "/home/rakurai/.cache/pypoetry/virtualenvs/pkmn-infinite-diffusion-sgfbErnI-py3.10/lib/python3.10/site-packages/PIL/Image.py:1045: UserWarning: Palette images with Transparency expressed in bytes should be converted to RGBA images\n",
      "  warnings.warn(\n",
      "/home/rakurai/.cache/pypoetry/virtualenvs/pkmn-infinite-diffusion-sgfbErnI-py3.10/lib/python3.10/site-packages/PIL/Image.py:1045: UserWarning: Palette images with Transparency expressed in bytes should be converted to RGBA images\n",
      "  warnings.warn(\n"
     ]
    },
    {
     "name": "stdout",
     "output_type": "stream",
     "text": [
      "Epoch 10/10, Batch 0, Loss: 0.7583\n",
      "Epoch 10/10, Batch 1000, Loss: 0.7548\n",
      "Checkpoint saved: src/models/model_epoch_9.pth\n"
     ]
    }
   ],
   "source": [
    "# Training Loop\n",
    "num_epochs = 10  # Keep it small for now\n",
    "\n",
    "# Define checkpoint directory\n",
    "checkpoint_dir = \"src/models/\"\n",
    "os.makedirs(checkpoint_dir, exist_ok=True)\n",
    "\n",
    "\n",
    "\n",
    "for epoch in range(num_epochs):\n",
    "    for batch_idx, imgs in enumerate(dataloader):\n",
    "        imgs = imgs.to(device)\n",
    "        # Sample a random timestep for each image\n",
    "        t = torch.randint(0, scheduler.num_timesteps, (imgs.shape[0],), device=device)\n",
    "        # Apply forward diffusion\n",
    "        noisy_imgs, noise = forward_diffusion(imgs, t, scheduler)\n",
    "        # Predict noise using U-Net\n",
    "        noise_pred = model(noisy_imgs)\n",
    "        if torch.isnan(noise_pred).any():\n",
    "                print(f\"NaN detected in model output at timestep {t}\")\n",
    "                break\n",
    "        \n",
    "        # Compute loss\n",
    "        loss = criterion(noise_pred, noise)\n",
    "        \n",
    "        # Backpropagation\n",
    "        optimizer.zero_grad()\n",
    "        loss.backward()\n",
    "        torch.nn.utils.clip_grad_norm_(model.parameters(), max_norm=0.5) \n",
    "        optimizer.step()\n",
    "\n",
    "        # Print loss occasionally\n",
    "        if batch_idx % 1000 == 0:\n",
    "            print(f\"Epoch {epoch+1}/{num_epochs}, Batch {batch_idx}, Loss: {loss.item():.4f}\")\n",
    "\n",
    "    save_model(model, epoch)\n"
   ]
  },
  {
   "cell_type": "code",
   "execution_count": 75,
   "metadata": {},
   "outputs": [
    {
     "name": "stdout",
     "output_type": "stream",
     "text": [
      "Loaded model from src/models/model_epoch_9.pth\n"
     ]
    }
   ],
   "source": [
    "import os\n",
    "import glob\n",
    "import numpy as np\n",
    "import torchvision.utils as vutils\n",
    "from tqdm import tqdm\n",
    "\n",
    "# Configuration\n",
    "output_dir = \"results\"\n",
    "os.makedirs(output_dir, exist_ok=True)\n",
    "image_size = 32  # Adjust if needed\n",
    "device = torch.device(\"cuda\" if torch.cuda.is_available() else \"cpu\")\n",
    "\n",
    "# Function to find the latest checkpoint\n",
    "def find_latest_checkpoint(checkpoint_dir):\n",
    "    checkpoints = glob.glob(os.path.join(checkpoint_dir, \"model_epoch_*.pth\"))\n",
    "    if not checkpoints:\n",
    "        raise FileNotFoundError(\"No checkpoints found!\")\n",
    "    latest_checkpoint = max(checkpoints, key=os.path.getctime)\n",
    "    return latest_checkpoint\n",
    "\n",
    "# Load latest model\n",
    "latest_checkpoint = find_latest_checkpoint(checkpoint_dir)\n",
    "model = SimpleUNet().to(device)\n",
    "model.load_state_dict(torch.load(latest_checkpoint, map_location=device))\n",
    "model.eval()\n",
    "print(f\"Loaded model from {latest_checkpoint}\")\n",
    "for name, param in model.named_parameters():\n",
    "    if torch.isnan(param).any():\n",
    "        print(f\"NaN detected in {name}\")\n",
    "\n",
    "# Sampling process\n",
    "def generate_images(num_samples=8):\n",
    "    with torch.no_grad():\n",
    "        # Start with pure noise\n",
    "        x_t = torch.randn((num_samples, 3, image_size, image_size), device=device)\n",
    "        \n",
    "        for t in tqdm(reversed(range(scheduler.num_timesteps))):\n",
    "            beta_t, alpha_bar_t = scheduler.get_variance(t)\n",
    "\n",
    "            if torch.isnan(beta_t).any() or torch.isnan(alpha_bar_t).any():\n",
    "                print(f\"NaN detected in scheduler at timestep {t} -> beta_t: {beta_t}, alpha_bar_t: {alpha_bar_t}\")\n",
    "                break  # Stop execution immediately\n",
    "\n",
    "            noise_pred = model(x_t)\n",
    "\n",
    "            if torch.isnan(noise_pred).any():\n",
    "                print(f\"NaN detected in model output at timestep {t}\")\n",
    "                break\n",
    "\n",
    "            # x_t = (x_t - torch.sqrt(1 - alpha_bar_t) * noise_pred) / torch.sqrt(alpha_bar_t)\n",
    "\n",
    "            # Avoid dividing by 0 error\n",
    "            eps = 1e-7  # Small constant to prevent instability\n",
    "            x_t = (x_t - torch.sqrt(torch.clamp(1 - alpha_bar_t, min=eps)) * noise_pred) / torch.sqrt(torch.clamp(alpha_bar_t, min=eps))\n",
    "            if x_t.abs().max() > 1e3:  # Arbitrary threshold, adjust as needed\n",
    "                print(f\"Warning: x_t exploding at timestep {t}, max value: {x_t.abs().max().item()}\")\n",
    "                break\n",
    "\n",
    "            if torch.isnan(x_t).any():\n",
    "                print(f\"NaN detected in x_t at timestep {t}\")\n",
    "                break\n",
    "\n",
    "            if t > 0:\n",
    "                noise = torch.randn_like(x_t)\n",
    "                # x_t += torch.sqrt(beta_t) * noise\n",
    "                # avoid dividing by 0 error\n",
    "                x_t += torch.sqrt(torch.clamp(beta_t, min=eps)) * noise\n",
    "\n",
    "        \n",
    "        # Normalize images to [0,1]\n",
    "        generated_images = (x_t + 1) / 2  # Assuming tanh output\n",
    "        print(\"Min:\", generated_images.min().item(), \"Max:\", generated_images.max().item())\n",
    "\n",
    "        return generated_images\n",
    "\n"
   ]
  },
  {
   "cell_type": "code",
   "execution_count": 76,
   "metadata": {},
   "outputs": [
    {
     "name": "stderr",
     "output_type": "stream",
     "text": [
      "1it [00:00, 112.75it/s]"
     ]
    },
    {
     "name": "stdout",
     "output_type": "stream",
     "text": [
      "Warning: x_t exploding at timestep 998, max value: 86455.78125\n",
      "Min: -41792.23046875 Max: 43228.390625\n",
      "Generated samples saved to results/generated_samples.png\n"
     ]
    },
    {
     "name": "stderr",
     "output_type": "stream",
     "text": [
      "\n"
     ]
    }
   ],
   "source": [
    "\n",
    "# Generate images\n",
    "samples = generate_images(num_samples=8)\n",
    "vutils.save_image(samples, os.path.join(output_dir, \"generated_samples.png\"))\n",
    "print(f\"Generated samples saved to {output_dir}/generated_samples.png\")"
   ]
  },
  {
   "cell_type": "code",
   "execution_count": null,
   "metadata": {},
   "outputs": [],
   "source": []
  }
 ],
 "metadata": {
  "kernelspec": {
   "display_name": "pkmn-infinite-diffusion",
   "language": "python",
   "name": "pkmn-infinite-diffusion"
  },
  "language_info": {
   "codemirror_mode": {
    "name": "ipython",
    "version": 3
   },
   "file_extension": ".py",
   "mimetype": "text/x-python",
   "name": "python",
   "nbconvert_exporter": "python",
   "pygments_lexer": "ipython3",
   "version": "3.10.12"
  }
 },
 "nbformat": 4,
 "nbformat_minor": 2
}
