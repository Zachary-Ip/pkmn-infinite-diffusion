{
 "cells": [
  {
   "cell_type": "markdown",
   "metadata": {},
   "source": [
    "## Make sure that Data can be loaded and transformed"
   ]
  },
  {
   "cell_type": "code",
   "execution_count": 1,
   "metadata": {},
   "outputs": [],
   "source": [
    "from omegaconf import OmegaConf\n",
    "import os\n",
    "from PIL import Image, UnidentifiedImageError\n",
    "import torchvision.transforms as transforms\n",
    "from torch.utils.data import Dataset, DataLoader\n",
    "import matplotlib.pyplot as plt"
   ]
  },
  {
   "cell_type": "code",
   "execution_count": 2,
   "metadata": {},
   "outputs": [],
   "source": [
    "# Define Transformations (Resize + Normalize)\n",
    "config = OmegaConf.load('configs/train.yaml')\n",
    "transform = transforms.Compose([\n",
    "    transforms.Resize((config.model.image_size, config.model.image_size)),  # Resize images to 64x64\n",
    "    transforms.ToTensor(),  # Convert to tensor\n",
    "    transforms.Normalize((0.5,), (0.5,)),  # Normalize to [-1,1]\n",
    "])\n"
   ]
  },
  {
   "cell_type": "code",
   "execution_count": 3,
   "metadata": {},
   "outputs": [],
   "source": [
    "\n",
    "config = OmegaConf.load(\"configs/train.yaml\")\n",
    "\n",
    "transform = transforms.Compose(\n",
    "    [\n",
    "        transforms.Resize(\n",
    "            (config.model.image_size, config.model.image_size)\n",
    "        ),  # Resize images to 64x64\n",
    "        transforms.ToTensor(),  # Convert to tensor\n",
    "        transforms.Normalize((0.5,), (0.5,)),  # Normalize to [-1,1]\n",
    "    ]\n",
    ")\n",
    "\n",
    "\n",
    "class PokemonDataset(Dataset):\n",
    "    def __init__(self, image_folder, transform=None):\n",
    "        self.image_folder = image_folder\n",
    "        self.image_files = self.get_valid_images(image_folder)\n",
    "        self.transform = transform\n",
    "\n",
    "    def get_valid_images(self, folder):\n",
    "        valid_images = []\n",
    "        for f in os.listdir(folder):\n",
    "            if f.endswith(\".png\"):\n",
    "                img_path = os.path.join(folder, f)\n",
    "                try:\n",
    "                    with Image.open(img_path) as img:\n",
    "                        img.verify()  # Verify if the image is corrupted\n",
    "                    valid_images.append(f)\n",
    "                except (IOError, UnidentifiedImageError):\n",
    "                    print(f\"Skipping corrupted file: {f}\")\n",
    "        return valid_images\n",
    "\n",
    "    def __len__(self):\n",
    "        return len(self.image_files)\n",
    "\n",
    "    def __getitem__(self, idx):\n",
    "        img_path = os.path.join(self.image_folder, self.image_files[idx])\n",
    "        image = Image.open(img_path).convert(\"RGB\")\n",
    "        if self.transform:\n",
    "            image = self.transform(image)\n",
    "        return image"
   ]
  },
  {
   "cell_type": "code",
   "execution_count": 4,
   "metadata": {},
   "outputs": [],
   "source": [
    "\n",
    "# Load Dataset\n",
    "dataset = PokemonDataset(\"data/raw/\", transform=transform)\n",
    "# dataloader = DataLoader(dataset, batch_size=32, num_workers=8, pin_memory=True, shuffle=True)\n",
    "\n",
    "dataloader = DataLoader(dataset, batch_size=8, num_workers=os.cpu_count() // 2, pin_memory=True, shuffle=True)\n",
    "\n"
   ]
  },
  {
   "cell_type": "markdown",
   "metadata": {},
   "source": [
    "## Basic version of a forward pass"
   ]
  },
  {
   "cell_type": "code",
   "execution_count": 5,
   "metadata": {},
   "outputs": [],
   "source": [
    "import torch\n",
    "import numpy as np"
   ]
  },
  {
   "cell_type": "code",
   "execution_count": 6,
   "metadata": {},
   "outputs": [],
   "source": [
    "class NoiseScheduler:\n",
    "    '''\n",
    "    We define βₜ (the noise variance) and αₜ (related to βₜ):\n",
    "\n",
    "    βₜ (beta_t) controls how much noise is added at each step.\n",
    "    αₜ (alpha_t) and ᾱₜ (cumulative alpha) determine the transition from x₀ to xₜ.\n",
    "    '''\n",
    "    def __init__(self, num_timesteps=1000, beta_start=1e-4, beta_end=0.02, device=\"cpu\"):\n",
    "        self.num_timesteps = num_timesteps\n",
    "        self.device = device  # Store device info\n",
    "\n",
    "        # Initialize tensors\n",
    "        self.beta_t = torch.linspace(beta_start, beta_end, num_timesteps, device=device)\n",
    "        self.alpha_t = 1.0 - self.beta_t\n",
    "        self.alpha_bar_t = torch.cumprod(self.alpha_t, dim=0)\n",
    "\n",
    "    def get_variance(self, t):\n",
    "        \"\"\"Returns beta_t and alpha_bar_t at timestep t (ensuring they're on the correct device).\"\"\"\n",
    "        return self.beta_t[t], self.alpha_bar_t[t]\n",
    "\n",
    "# Initialize Scheduler\n",
    "scheduler = NoiseScheduler(num_timesteps=1000)"
   ]
  },
  {
   "cell_type": "code",
   "execution_count": 7,
   "metadata": {},
   "outputs": [],
   "source": [
    "def forward_diffusion(x_0, t, scheduler):\n",
    "    \"\"\"Adds noise to image x_0 at timestep t\"\"\"\n",
    "    beta_t, alpha_bar_t = scheduler.get_variance(t)\n",
    "    # Ensure `alpha_bar_t` has the right shape for broadcasting\n",
    "    alpha_bar_t = alpha_bar_t.view(-1, 1, 1, 1)  # Reshape to [batch_size, 1, 1, 1]\n",
    "\n",
    "    beta_t, alpha_bar_t = beta_t.to(x_0.device), alpha_bar_t.to(x_0.device)\n",
    "\n",
    "    noise = torch.randn_like(x_0, device=x_0.device)  # Sample Gaussian noise\n",
    "    \n",
    "    # Apply diffusion\n",
    "    noisy_x = torch.sqrt(alpha_bar_t) * x_0 + torch.sqrt(1 - alpha_bar_t) * noise\n",
    "    return noisy_x, noise  # Return both the noisy image and the actual noise"
   ]
  },
  {
   "cell_type": "code",
   "execution_count": 8,
   "metadata": {},
   "outputs": [
    {
     "data": {
      "image/png": "[encoded data removed]",
      "text/plain": [
       "<Figure size 1500x300 with 5 Axes>"
      ]
     },
     "metadata": {},
     "output_type": "display_data"
    }
   ],
   "source": [
    "# Select a sample image from the dataset\n",
    "sample_image = dataset[0].unsqueeze(0)  # Add batch dimension\n",
    "\n",
    "# Pick timesteps to visualize\n",
    "timesteps = [0, 50, 200, 500, 999]\n",
    "\n",
    "plt.figure(figsize=(15, 3))\n",
    "for i, t in enumerate(timesteps):\n",
    "    noisy_image, _ = forward_diffusion(sample_image, t, scheduler)\n",
    "    noisy_image = noisy_image.squeeze(0).permute(1, 2, 0).numpy()  # Convert to displayable format\n",
    "    noisy_image = np.clip(noisy_image, 0, 1)  # Ensure valid pixel values\n",
    "\n",
    "    plt.subplot(1, len(timesteps), i + 1)\n",
    "    plt.imshow(noisy_image)\n",
    "    plt.axis(\"off\")\n",
    "    plt.title(f\"t = {t}\")\n",
    "\n",
    "plt.show()"
   ]
  },
  {
   "cell_type": "markdown",
   "metadata": {},
   "source": [
    "## Define the U-Net model for denoising"
   ]
  },
  {
   "cell_type": "code",
   "execution_count": 9,
   "metadata": {},
   "outputs": [],
   "source": [
    "import torch.nn as nn\n",
    "import torch.nn.functional as F"
   ]
  },
  {
   "cell_type": "code",
   "execution_count": 10,
   "metadata": {},
   "outputs": [],
   "source": [
    "# Net v3 with batch normalization\n",
    "import torch\n",
    "import torch.nn as nn\n",
    "import torch.nn.functional as F\n",
    "\n",
    "class SimpleUNet(nn.Module):\n",
    "    def __init__(self):\n",
    "        super(SimpleUNet, self).__init__()\n",
    "\n",
    "        # Encoding path\n",
    "        self.conv1 = nn.Conv2d(3, 64, kernel_size=3, padding=1)\n",
    "        self.bn1 = nn.BatchNorm2d(64)  # BatchNorm after conv1\n",
    "        \n",
    "        self.conv2 = nn.Conv2d(64, 128, kernel_size=3, padding=1)\n",
    "        self.bn2 = nn.BatchNorm2d(128)  # BatchNorm after conv2\n",
    "        \n",
    "        self.conv3 = nn.Conv2d(128, 256, kernel_size=3, padding=1)\n",
    "        self.bn3 = nn.BatchNorm2d(256)  # BatchNorm after conv3\n",
    "\n",
    "        # Bottleneck\n",
    "        self.conv_mid = nn.Conv2d(256, 256, kernel_size=3, padding=1)\n",
    "        self.bn_mid = nn.BatchNorm2d(256)  # BatchNorm in bottleneck\n",
    "\n",
    "        # Decoding path\n",
    "        self.deconv3 = nn.ConvTranspose2d(256, 128, kernel_size=2, stride=2)\n",
    "        self.bn_deconv3 = nn.BatchNorm2d(128)  # BatchNorm in decoder\n",
    "        \n",
    "        self.deconv2 = nn.ConvTranspose2d(128, 64, kernel_size=2, stride=2)\n",
    "        self.bn_deconv2 = nn.BatchNorm2d(64)  # BatchNorm in decoder\n",
    "        \n",
    "        self.deconv1 = nn.ConvTranspose2d(64, 3, kernel_size=2, stride=2)\n",
    "\n",
    "    def forward(self, x):\n",
    "        # Encoder\n",
    "        x1 = F.relu(self.bn1(self.conv1(x)))  # (3 → 64)\n",
    "        x2 = F.relu(self.bn2(self.conv2(F.max_pool2d(x1, 2))))  # (64 → 128)\n",
    "        x3 = F.relu(self.bn3(self.conv3(F.max_pool2d(x2, 2))))  # (128 → 256)\n",
    "\n",
    "        # Bottleneck\n",
    "        x_mid = F.relu(self.bn_mid(self.conv_mid(F.max_pool2d(x3, 2))))  # (256 → 256)\n",
    "\n",
    "        # Decoder (skip connections)\n",
    "        x_up3 = F.relu(self.bn_deconv3(self.deconv3(x_mid)))  # (256 → 128)\n",
    "        x_up2 = F.relu(self.bn_deconv2(self.deconv2(x_up3)))  # (128 → 64)\n",
    "        x_up1 = self.deconv1(x_up2)  # (64 → 3)\n",
    "        x_up1 = torch.tanh(x_up1)  # Ensure output is in [-1,1]\n",
    "\n",
    "        # Ensure output size matches input\n",
    "        x_up1 = F.interpolate(x_up1, size=(32, 32), mode='bilinear', align_corners=False)\n",
    "\n",
    "        return x_up1\n"
   ]
  },
  {
   "cell_type": "markdown",
   "metadata": {},
   "source": [
    "## Train the model to predict the noise"
   ]
  },
  {
   "cell_type": "code",
   "execution_count": 11,
   "metadata": {},
   "outputs": [],
   "source": [
    "from src.utils.preprocess import preprocess\n",
    "from src.models.unet import UNet"
   ]
  },
  {
   "cell_type": "code",
   "execution_count": 12,
   "metadata": {},
   "outputs": [],
   "source": [
    "import torch.optim as optim\n",
    "# Initialize model, optimizer, and loss function\n",
    "device = torch.device(\"cuda\" if torch.cuda.is_available() else \"cpu\")\n",
    "# model = SimpleUNet().to(device)\n",
    "model = UNet(in_channels=3).to(device)\n",
    "scheduler = NoiseScheduler(num_timesteps=1000, device=device)\n",
    "\n",
    "# Move scheduler's tensors to the correct device\n",
    "scheduler.beta_t = scheduler.beta_t.to(device)\n",
    "scheduler.alpha_t = scheduler.alpha_t.to(device)\n",
    "scheduler.alpha_bar_t = scheduler.alpha_bar_t.to(device)\n",
    "\n",
    "optimizer = optim.Adam(model.parameters(), weight_decay=1e-4, lr=1e-4) # 1e-3 was causing exploding weights\n",
    "criterion = nn.MSELoss()  # Predicting noise, so we use MSE loss\n"
   ]
  },
  {
   "cell_type": "code",
   "execution_count": 13,
   "metadata": {},
   "outputs": [],
   "source": [
    "\n",
    "# Define checkpoint directory\n",
    "checkpoint_dir = \"src/models/\"\n",
    "os.makedirs(checkpoint_dir, exist_ok=True)\n",
    "\n",
    "# Save model\n",
    "def save_model(model, epoch):\n",
    "    checkpoint_path = os.path.join(checkpoint_dir, f\"model_epoch_{epoch}.pth\")\n",
    "    torch.save(model.state_dict(), checkpoint_path)\n",
    "    print(f\"Checkpoint saved: {checkpoint_path}\")\n",
    "\n",
    "def load_model(model, checkpoint_path):\n",
    "    model.load_state_dict(torch.load(checkpoint_path))\n",
    "    model.eval()  # Set to evaluation mode\n",
    "    print(f\"Loaded model from {checkpoint_path}\")\n",
    "    return model\n",
    "\n"
   ]
  },
  {
   "cell_type": "code",
   "execution_count": 14,
   "metadata": {},
   "outputs": [
    {
     "ename": "AttributeError",
     "evalue": "'dict' object has no attribute 'size'",
     "output_type": "error",
     "traceback": [
      "\u001b[0;31m---------------------------------------------------------------------------\u001b[0m",
      "\u001b[0;31mAttributeError\u001b[0m                            Traceback (most recent call last)",
      "Cell \u001b[0;32mIn[14], line 22\u001b[0m\n\u001b[1;32m     18\u001b[0m noise_pred \u001b[38;5;241m=\u001b[39m model(noisy_imgs, \u001b[38;5;241m100\u001b[39m)\n\u001b[1;32m     21\u001b[0m \u001b[38;5;66;03m# Compute loss\u001b[39;00m\n\u001b[0;32m---> 22\u001b[0m loss \u001b[38;5;241m=\u001b[39m \u001b[43mcriterion\u001b[49m\u001b[43m(\u001b[49m\u001b[43mnoise_pred\u001b[49m\u001b[43m,\u001b[49m\u001b[43m \u001b[49m\u001b[43mnoise\u001b[49m\u001b[43m)\u001b[49m\n\u001b[1;32m     24\u001b[0m \u001b[38;5;66;03m# Backpropagation\u001b[39;00m\n\u001b[1;32m     25\u001b[0m optimizer\u001b[38;5;241m.\u001b[39mzero_grad()\n",
      "File \u001b[0;32m~/.cache/pypoetry/virtualenvs/pkmn-infinite-diffusion-sgfbErnI-py3.10/lib/python3.10/site-packages/torch/nn/modules/module.py:1739\u001b[0m, in \u001b[0;36mModule._wrapped_call_impl\u001b[0;34m(self, *args, **kwargs)\u001b[0m\n\u001b[1;32m   1737\u001b[0m     \u001b[38;5;28;01mreturn\u001b[39;00m \u001b[38;5;28mself\u001b[39m\u001b[38;5;241m.\u001b[39m_compiled_call_impl(\u001b[38;5;241m*\u001b[39margs, \u001b[38;5;241m*\u001b[39m\u001b[38;5;241m*\u001b[39mkwargs)  \u001b[38;5;66;03m# type: ignore[misc]\u001b[39;00m\n\u001b[1;32m   1738\u001b[0m \u001b[38;5;28;01melse\u001b[39;00m:\n\u001b[0;32m-> 1739\u001b[0m     \u001b[38;5;28;01mreturn\u001b[39;00m \u001b[38;5;28;43mself\u001b[39;49m\u001b[38;5;241;43m.\u001b[39;49m\u001b[43m_call_impl\u001b[49m\u001b[43m(\u001b[49m\u001b[38;5;241;43m*\u001b[39;49m\u001b[43margs\u001b[49m\u001b[43m,\u001b[49m\u001b[43m \u001b[49m\u001b[38;5;241;43m*\u001b[39;49m\u001b[38;5;241;43m*\u001b[39;49m\u001b[43mkwargs\u001b[49m\u001b[43m)\u001b[49m\n",
      "File \u001b[0;32m~/.cache/pypoetry/virtualenvs/pkmn-infinite-diffusion-sgfbErnI-py3.10/lib/python3.10/site-packages/torch/nn/modules/module.py:1750\u001b[0m, in \u001b[0;36mModule._call_impl\u001b[0;34m(self, *args, **kwargs)\u001b[0m\n\u001b[1;32m   1745\u001b[0m \u001b[38;5;66;03m# If we don't have any hooks, we want to skip the rest of the logic in\u001b[39;00m\n\u001b[1;32m   1746\u001b[0m \u001b[38;5;66;03m# this function, and just call forward.\u001b[39;00m\n\u001b[1;32m   1747\u001b[0m \u001b[38;5;28;01mif\u001b[39;00m \u001b[38;5;129;01mnot\u001b[39;00m (\u001b[38;5;28mself\u001b[39m\u001b[38;5;241m.\u001b[39m_backward_hooks \u001b[38;5;129;01mor\u001b[39;00m \u001b[38;5;28mself\u001b[39m\u001b[38;5;241m.\u001b[39m_backward_pre_hooks \u001b[38;5;129;01mor\u001b[39;00m \u001b[38;5;28mself\u001b[39m\u001b[38;5;241m.\u001b[39m_forward_hooks \u001b[38;5;129;01mor\u001b[39;00m \u001b[38;5;28mself\u001b[39m\u001b[38;5;241m.\u001b[39m_forward_pre_hooks\n\u001b[1;32m   1748\u001b[0m         \u001b[38;5;129;01mor\u001b[39;00m _global_backward_pre_hooks \u001b[38;5;129;01mor\u001b[39;00m _global_backward_hooks\n\u001b[1;32m   1749\u001b[0m         \u001b[38;5;129;01mor\u001b[39;00m _global_forward_hooks \u001b[38;5;129;01mor\u001b[39;00m _global_forward_pre_hooks):\n\u001b[0;32m-> 1750\u001b[0m     \u001b[38;5;28;01mreturn\u001b[39;00m \u001b[43mforward_call\u001b[49m\u001b[43m(\u001b[49m\u001b[38;5;241;43m*\u001b[39;49m\u001b[43margs\u001b[49m\u001b[43m,\u001b[49m\u001b[43m \u001b[49m\u001b[38;5;241;43m*\u001b[39;49m\u001b[38;5;241;43m*\u001b[39;49m\u001b[43mkwargs\u001b[49m\u001b[43m)\u001b[49m\n\u001b[1;32m   1752\u001b[0m result \u001b[38;5;241m=\u001b[39m \u001b[38;5;28;01mNone\u001b[39;00m\n\u001b[1;32m   1753\u001b[0m called_always_called_hooks \u001b[38;5;241m=\u001b[39m \u001b[38;5;28mset\u001b[39m()\n",
      "File \u001b[0;32m~/.cache/pypoetry/virtualenvs/pkmn-infinite-diffusion-sgfbErnI-py3.10/lib/python3.10/site-packages/torch/nn/modules/loss.py:610\u001b[0m, in \u001b[0;36mMSELoss.forward\u001b[0;34m(self, input, target)\u001b[0m\n\u001b[1;32m    609\u001b[0m \u001b[38;5;28;01mdef\u001b[39;00m\u001b[38;5;250m \u001b[39m\u001b[38;5;21mforward\u001b[39m(\u001b[38;5;28mself\u001b[39m, \u001b[38;5;28minput\u001b[39m: Tensor, target: Tensor) \u001b[38;5;241m-\u001b[39m\u001b[38;5;241m>\u001b[39m Tensor:\n\u001b[0;32m--> 610\u001b[0m     \u001b[38;5;28;01mreturn\u001b[39;00m \u001b[43mF\u001b[49m\u001b[38;5;241;43m.\u001b[39;49m\u001b[43mmse_loss\u001b[49m\u001b[43m(\u001b[49m\u001b[38;5;28;43minput\u001b[39;49m\u001b[43m,\u001b[49m\u001b[43m \u001b[49m\u001b[43mtarget\u001b[49m\u001b[43m,\u001b[49m\u001b[43m \u001b[49m\u001b[43mreduction\u001b[49m\u001b[38;5;241;43m=\u001b[39;49m\u001b[38;5;28;43mself\u001b[39;49m\u001b[38;5;241;43m.\u001b[39;49m\u001b[43mreduction\u001b[49m\u001b[43m)\u001b[49m\n",
      "File \u001b[0;32m~/.cache/pypoetry/virtualenvs/pkmn-infinite-diffusion-sgfbErnI-py3.10/lib/python3.10/site-packages/torch/nn/functional.py:3873\u001b[0m, in \u001b[0;36mmse_loss\u001b[0;34m(input, target, size_average, reduce, reduction, weight)\u001b[0m\n\u001b[1;32m   3861\u001b[0m \u001b[38;5;28;01mif\u001b[39;00m has_torch_function_variadic(\u001b[38;5;28minput\u001b[39m, target, weight):\n\u001b[1;32m   3862\u001b[0m     \u001b[38;5;28;01mreturn\u001b[39;00m handle_torch_function(\n\u001b[1;32m   3863\u001b[0m         mse_loss,\n\u001b[1;32m   3864\u001b[0m         (\u001b[38;5;28minput\u001b[39m, target, weight),\n\u001b[0;32m   (...)\u001b[0m\n\u001b[1;32m   3870\u001b[0m         weight\u001b[38;5;241m=\u001b[39mweight,\n\u001b[1;32m   3871\u001b[0m     )\n\u001b[0;32m-> 3873\u001b[0m \u001b[38;5;28;01mif\u001b[39;00m \u001b[38;5;129;01mnot\u001b[39;00m (target\u001b[38;5;241m.\u001b[39msize() \u001b[38;5;241m==\u001b[39m \u001b[38;5;28;43minput\u001b[39;49m\u001b[38;5;241;43m.\u001b[39;49m\u001b[43msize\u001b[49m()):\n\u001b[1;32m   3874\u001b[0m     warnings\u001b[38;5;241m.\u001b[39mwarn(\n\u001b[1;32m   3875\u001b[0m         \u001b[38;5;124mf\u001b[39m\u001b[38;5;124m\"\u001b[39m\u001b[38;5;124mUsing a target size (\u001b[39m\u001b[38;5;132;01m{\u001b[39;00mtarget\u001b[38;5;241m.\u001b[39msize()\u001b[38;5;132;01m}\u001b[39;00m\u001b[38;5;124m) that is different to the input size (\u001b[39m\u001b[38;5;132;01m{\u001b[39;00m\u001b[38;5;28minput\u001b[39m\u001b[38;5;241m.\u001b[39msize()\u001b[38;5;132;01m}\u001b[39;00m\u001b[38;5;124m). \u001b[39m\u001b[38;5;124m\"\u001b[39m\n\u001b[1;32m   3876\u001b[0m         \u001b[38;5;124m\"\u001b[39m\u001b[38;5;124mThis will likely lead to incorrect results due to broadcasting. \u001b[39m\u001b[38;5;124m\"\u001b[39m\n\u001b[1;32m   3877\u001b[0m         \u001b[38;5;124m\"\u001b[39m\u001b[38;5;124mPlease ensure they have the same size.\u001b[39m\u001b[38;5;124m\"\u001b[39m,\n\u001b[1;32m   3878\u001b[0m         stacklevel\u001b[38;5;241m=\u001b[39m\u001b[38;5;241m2\u001b[39m,\n\u001b[1;32m   3879\u001b[0m     )\n\u001b[1;32m   3881\u001b[0m \u001b[38;5;28;01mif\u001b[39;00m size_average \u001b[38;5;129;01mis\u001b[39;00m \u001b[38;5;129;01mnot\u001b[39;00m \u001b[38;5;28;01mNone\u001b[39;00m \u001b[38;5;129;01mor\u001b[39;00m reduce \u001b[38;5;129;01mis\u001b[39;00m \u001b[38;5;129;01mnot\u001b[39;00m \u001b[38;5;28;01mNone\u001b[39;00m:\n",
      "\u001b[0;31mAttributeError\u001b[0m: 'dict' object has no attribute 'size'"
     ]
    }
   ],
   "source": [
    "# Training Loop\n",
    "num_epochs = 10  # Keep it small for now\n",
    "\n",
    "# Define checkpoint directory\n",
    "checkpoint_dir = \"src/models/\"\n",
    "os.makedirs(checkpoint_dir, exist_ok=True)\n",
    "\n",
    "\n",
    "\n",
    "for epoch in range(num_epochs):\n",
    "    for batch_idx, imgs in enumerate(dataloader):\n",
    "        imgs = imgs.to(device)\n",
    "        # Sample a random timestep for each image\n",
    "        t = torch.randint(0, scheduler.num_timesteps, (imgs.shape[0],), device=device)\n",
    "        # Apply forward diffusion\n",
    "        noisy_imgs, noise = forward_diffusion(imgs, t, scheduler)\n",
    "        # Predict noise using U-Net\n",
    "        noise_pred = model(noisy_imgs, 100)\n",
    "        \n",
    "        \n",
    "        # Compute loss\n",
    "        loss = criterion(noise_pred, noise)\n",
    "        \n",
    "        # Backpropagation\n",
    "        optimizer.zero_grad()\n",
    "        loss.backward()\n",
    "        torch.nn.utils.clip_grad_norm_(model.parameters(), max_norm=0.5) \n",
    "        optimizer.step()\n",
    "\n",
    "        # Print loss occasionally\n",
    "        if batch_idx % 1000 == 0:\n",
    "            print(f\"Epoch {epoch+1}/{num_epochs}, Batch {batch_idx}, Loss: {loss.item():.4f}\")\n",
    "\n",
    "    save_model(model, epoch)\n"
   ]
  },
  {
   "cell_type": "code",
   "execution_count": null,
   "metadata": {},
   "outputs": [
    {
     "name": "stdout",
     "output_type": "stream",
     "text": [
      "Loaded model from src/models/model_epoch_9.pth\n"
     ]
    }
   ],
   "source": [
    "import os\n",
    "import glob\n",
    "import numpy as np\n",
    "import torchvision.utils as vutils\n",
    "from tqdm import tqdm\n",
    "\n",
    "# Configuration\n",
    "output_dir = \"results\"\n",
    "os.makedirs(output_dir, exist_ok=True)\n",
    "image_size = 32  # Adjust if needed\n",
    "device = torch.device(\"cuda\" if torch.cuda.is_available() else \"cpu\")\n",
    "\n",
    "# Function to find the latest checkpoint\n",
    "def find_latest_checkpoint(checkpoint_dir):\n",
    "    checkpoints = glob.glob(os.path.join(checkpoint_dir, \"model_epoch_*.pth\"))\n",
    "    if not checkpoints:\n",
    "        raise FileNotFoundError(\"No checkpoints found!\")\n",
    "    latest_checkpoint = max(checkpoints, key=os.path.getctime)\n",
    "    return latest_checkpoint\n",
    "\n",
    "# Load latest model\n",
    "latest_checkpoint = find_latest_checkpoint(checkpoint_dir)\n",
    "model = SimpleUNet().to(device)\n",
    "model.load_state_dict(torch.load(latest_checkpoint, map_location=device))\n",
    "model.eval()\n",
    "print(f\"Loaded model from {latest_checkpoint}\")\n",
    "for name, param in model.named_parameters():\n",
    "    if torch.isnan(param).any():\n",
    "        print(f\"NaN detected in {name}\")\n",
    "\n",
    "# Sampling process\n",
    "def generate_images(num_samples=8):\n",
    "    with torch.no_grad():\n",
    "        # Start with pure noise\n",
    "        x_t = torch.randn((num_samples, 3, image_size, image_size), device=device)\n",
    "        \n",
    "        for t in tqdm(reversed(range(scheduler.num_timesteps))):\n",
    "            beta_t, alpha_bar_t = scheduler.get_variance(t)\n",
    "\n",
    "            if torch.isnan(beta_t).any() or torch.isnan(alpha_bar_t).any():\n",
    "                print(f\"NaN detected in scheduler at timestep {t} -> beta_t: {beta_t}, alpha_bar_t: {alpha_bar_t}\")\n",
    "                break  # Stop execution immediately\n",
    "\n",
    "            noise_pred = model(x_t)\n",
    "\n",
    "            if torch.isnan(noise_pred).any():\n",
    "                print(f\"NaN detected in model output at timestep {t}\")\n",
    "                break\n",
    "\n",
    "            # x_t = (x_t - torch.sqrt(1 - alpha_bar_t) * noise_pred) / torch.sqrt(alpha_bar_t)\n",
    "\n",
    "            # Avoid dividing by 0 error\n",
    "            eps = 1e-7  # Small constant to prevent instability\n",
    "            x_t = (x_t - torch.sqrt(torch.clamp(1 - alpha_bar_t, min=eps)) * noise_pred) / torch.sqrt(torch.clamp(alpha_bar_t, min=eps))\n",
    "            if x_t.abs().max() > 1e3:  # Arbitrary threshold, adjust as needed\n",
    "                print(f\"Warning: x_t exploding at timestep {t}, max value: {x_t.abs().max().item()}\")\n",
    "                break\n",
    "\n",
    "            if torch.isnan(x_t).any():\n",
    "                print(f\"NaN detected in x_t at timestep {t}\")\n",
    "                break\n",
    "\n",
    "            if t > 0:\n",
    "                noise = torch.randn_like(x_t)\n",
    "                # x_t += torch.sqrt(beta_t) * noise\n",
    "                # avoid dividing by 0 error\n",
    "                x_t += torch.sqrt(torch.clamp(beta_t, min=eps)) * noise\n",
    "\n",
    "        \n",
    "        # Normalize images to [0,1]\n",
    "        generated_images = (x_t + 1) / 2  # Assuming tanh output\n",
    "        print(\"Min:\", generated_images.min().item(), \"Max:\", generated_images.max().item())\n",
    "\n",
    "        return generated_images\n",
    "\n"
   ]
  },
  {
   "cell_type": "code",
   "execution_count": null,
   "metadata": {},
   "outputs": [
    {
     "name": "stderr",
     "output_type": "stream",
     "text": [
      "1it [00:00, 112.75it/s]"
     ]
    },
    {
     "name": "stdout",
     "output_type": "stream",
     "text": [
      "Warning: x_t exploding at timestep 998, max value: 86455.78125\n",
      "Min: -41792.23046875 Max: 43228.390625\n",
      "Generated samples saved to results/generated_samples.png\n"
     ]
    },
    {
     "name": "stderr",
     "output_type": "stream",
     "text": [
      "\n"
     ]
    }
   ],
   "source": [
    "\n",
    "# Generate images\n",
    "samples = generate_images(num_samples=8)\n",
    "vutils.save_image(samples, os.path.join(output_dir, \"generated_samples.png\"))\n",
    "print(f\"Generated samples saved to {output_dir}/generated_samples.png\")"
   ]
  },
  {
   "cell_type": "code",
   "execution_count": null,
   "metadata": {},
   "outputs": [],
   "source": []
  }
 ],
 "metadata": {
  "kernelspec": {
   "display_name": "pkmn-infinite-diffusion",
   "language": "python",
   "name": "pkmn-infinite-diffusion"
  },
  "language_info": {
   "codemirror_mode": {
    "name": "ipython",
    "version": 3
   },
   "file_extension": ".py",
   "mimetype": "text/x-python",
   "name": "python",
   "nbconvert_exporter": "python",
   "pygments_lexer": "ipython3",
   "version": "3.10.12"
  }
 },
 "nbformat": 4,
 "nbformat_minor": 2
}
